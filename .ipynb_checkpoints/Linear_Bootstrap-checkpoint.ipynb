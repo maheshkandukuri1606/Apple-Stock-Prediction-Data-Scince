{
 "cells": [
  {
   "cell_type": "code",
   "execution_count": 23,
   "metadata": {},
   "outputs": [],
   "source": [
    "import matplotlib.pyplot as plt\n",
    "import numpy as np\n",
    "import pandas as pd\n",
    "from scipy import stats\n",
    "import seaborn as sns\n",
    "import scipy.stats as ss\n",
    "\n",
    "# Make plots larger\n",
    "plt.rcParams['figure.figsize'] = (15, 9)"
   ]
  },
  {
   "cell_type": "code",
   "execution_count": 24,
   "metadata": {},
   "outputs": [
    {
     "data": {
      "text/html": [
       "<div>\n",
       "<style scoped>\n",
       "    .dataframe tbody tr th:only-of-type {\n",
       "        vertical-align: middle;\n",
       "    }\n",
       "\n",
       "    .dataframe tbody tr th {\n",
       "        vertical-align: top;\n",
       "    }\n",
       "\n",
       "    .dataframe thead th {\n",
       "        text-align: right;\n",
       "    }\n",
       "</style>\n",
       "<table border=\"1\" class=\"dataframe\">\n",
       "  <thead>\n",
       "    <tr style=\"text-align: right;\">\n",
       "      <th></th>\n",
       "      <th>Date</th>\n",
       "      <th>Open</th>\n",
       "      <th>High</th>\n",
       "      <th>Low</th>\n",
       "      <th>Close</th>\n",
       "      <th>Volume</th>\n",
       "      <th>open_tmr</th>\n",
       "      <th>OpenClose</th>\n",
       "      <th>HighLow</th>\n",
       "      <th>OCHL</th>\n",
       "    </tr>\n",
       "  </thead>\n",
       "  <tbody>\n",
       "    <tr>\n",
       "      <th>0</th>\n",
       "      <td>2016-01-04</td>\n",
       "      <td>104.44</td>\n",
       "      <td>104.44</td>\n",
       "      <td>99.75</td>\n",
       "      <td>102.31</td>\n",
       "      <td>345674</td>\n",
       "      <td>102.33</td>\n",
       "      <td>103.375</td>\n",
       "      <td>102.095</td>\n",
       "      <td>102.7350</td>\n",
       "    </tr>\n",
       "    <tr>\n",
       "      <th>1</th>\n",
       "      <td>2016-01-05</td>\n",
       "      <td>102.33</td>\n",
       "      <td>103.71</td>\n",
       "      <td>101.41</td>\n",
       "      <td>102.80</td>\n",
       "      <td>215313</td>\n",
       "      <td>102.02</td>\n",
       "      <td>102.565</td>\n",
       "      <td>102.560</td>\n",
       "      <td>102.5625</td>\n",
       "    </tr>\n",
       "    <tr>\n",
       "      <th>2</th>\n",
       "      <td>2016-01-06</td>\n",
       "      <td>102.02</td>\n",
       "      <td>103.77</td>\n",
       "      <td>100.75</td>\n",
       "      <td>103.17</td>\n",
       "      <td>234525</td>\n",
       "      <td>102.02</td>\n",
       "      <td>102.595</td>\n",
       "      <td>102.260</td>\n",
       "      <td>102.4275</td>\n",
       "    </tr>\n",
       "    <tr>\n",
       "      <th>3</th>\n",
       "      <td>2016-01-07</td>\n",
       "      <td>102.02</td>\n",
       "      <td>102.02</td>\n",
       "      <td>97.30</td>\n",
       "      <td>97.65</td>\n",
       "      <td>419638</td>\n",
       "      <td>99.00</td>\n",
       "      <td>99.835</td>\n",
       "      <td>99.660</td>\n",
       "      <td>99.7475</td>\n",
       "    </tr>\n",
       "    <tr>\n",
       "      <th>4</th>\n",
       "      <td>2016-01-08</td>\n",
       "      <td>99.00</td>\n",
       "      <td>100.50</td>\n",
       "      <td>97.03</td>\n",
       "      <td>97.18</td>\n",
       "      <td>325973</td>\n",
       "      <td>97.80</td>\n",
       "      <td>98.090</td>\n",
       "      <td>98.765</td>\n",
       "      <td>98.4275</td>\n",
       "    </tr>\n",
       "  </tbody>\n",
       "</table>\n",
       "</div>"
      ],
      "text/plain": [
       "        Date   Open    High     Low   Close   Volume  open_tmr  OpenClose  \\\n",
       "0 2016-01-04  104.44  104.44   99.75  102.31  345674    102.33    103.375   \n",
       "1 2016-01-05  102.33  103.71  101.41  102.80  215313    102.02    102.565   \n",
       "2 2016-01-06  102.02  103.77  100.75  103.17  234525    102.02    102.595   \n",
       "3 2016-01-07  102.02  102.02   97.30   97.65  419638     99.00     99.835   \n",
       "4 2016-01-08   99.00  100.50   97.03   97.18  325973     97.80     98.090   \n",
       "\n",
       "   HighLow      OCHL  \n",
       "0  102.095  102.7350  \n",
       "1  102.560  102.5625  \n",
       "2  102.260  102.4275  \n",
       "3   99.660   99.7475  \n",
       "4   98.765   98.4275  "
      ]
     },
     "execution_count": 24,
     "metadata": {},
     "output_type": "execute_result"
    }
   ],
   "source": [
    "facebook = pd.read_excel('fb.xlsx')\n",
    "facebook.set_index('Date')\n",
    "facebook['open_tmr'] = facebook['Open '].shift(-1)\n",
    "facebook['OpenClose']= (facebook['Open ']+ facebook['Close '])/2\n",
    "facebook['HighLow'] = (facebook['High ']+ facebook['Low '])/2\n",
    "facebook['OCHL'] = (facebook['Open ']+ facebook['Close ']+facebook['High ']+ facebook['Low '])/4\n",
    "facebook.head()"
   ]
  },
  {
   "cell_type": "code",
   "execution_count": 25,
   "metadata": {},
   "outputs": [
    {
     "name": "stderr",
     "output_type": "stream",
     "text": [
      "D:\\ProgramFiles\\Anacondav2\\lib\\site-packages\\ipykernel_launcher.py:2: FutureWarning: Method .as_matrix will be removed in a future version. Use .values instead.\n",
      "  \n",
      "D:\\ProgramFiles\\Anacondav2\\lib\\site-packages\\ipykernel_launcher.py:3: FutureWarning: Method .as_matrix will be removed in a future version. Use .values instead.\n",
      "  This is separate from the ipykernel package so we can avoid doing imports until\n"
     ]
    },
    {
     "data": {
      "text/plain": [
       "(670, 1)"
      ]
     },
     "execution_count": 25,
     "metadata": {},
     "output_type": "execute_result"
    }
   ],
   "source": [
    "#T = 670\n",
    "X = facebook[['OpenClose']].as_matrix()[1:]\n",
    "Y = facebook[['open_tmr']].as_matrix()[:-1]\n",
    "df = facebook[['Close ']]\n",
    "df.reset_index(level=0, inplace=True)\n",
    "df.columns=['ds','y']\n",
    "#X = np.column_stack([np.ones((T,1)),X])\n",
    "#print(X.transpose().shape)\n",
    "#movAverage1= (movAvg) \n",
    "X.shape"
   ]
  },
  {
   "cell_type": "code",
   "execution_count": 26,
   "metadata": {},
   "outputs": [],
   "source": [
    "def Linear(X, Y):\n",
    "    \n",
    "    T = X.shape[0]\n",
    "    #print(T)\n",
    "    #mu = (facebook['Open '].mean(),facebook['Open '].mean(),facebook['Open '].mean()) \n",
    "    #cov = [[1,0.75,-0.35],[0.75,1,0.9],[-0.35,0.9,1]]\n",
    "    #F = np.random.multivariate_normal(mu,cov,T)\n",
    "    #Sample for Y,X\n",
    "    X = np.column_stack([np.ones((T,1)),X])\n",
    "    #T = X.shape[0]\n",
    "    N = X.shape\n",
    "    #print(N)\n",
    "    #beta = np.array([0.56,2.53,2.05,1.78])\n",
    "    #beta.shape=(N[1],1)\n",
    "    #Y =X@beta+np.random.normal(0,1,(T,1))\n",
    "    #Y=facebook['Open '].values\n",
    "    #print(T)\n",
    "    invXX = np.linalg.inv(X.transpose()@X)\n",
    "    #print(invXX.shape)\n",
    "    #print(X.shape)\n",
    "    beta_hat = invXX@X.transpose()@Y\n",
    "    #print(beta_hat)\n",
    "    y_hat = X@beta_hat\n",
    "#     residuals = Y-y_hat\n",
    "#     sigma2 = (1/T)*residuals.transpose()@residuals\n",
    "\n",
    "#     sigma = np.sqrt(sigma2)\n",
    "\n",
    "#     #variance - covariance of beta_hat\n",
    "#     varcov_beta_hat = (sigma2)*invXX\n",
    "#     std_beta_hat = np.sqrt(T*np.diag(varcov_beta_hat))\n",
    "\n",
    "#     R_square = 1-(residuals.transpose()@residuals)/(T*np.var(Y))\n",
    "\n",
    "#     adj_R_square = 1-(1-R_square)*(T-1)/(T - N[1])\n",
    "\n",
    "#     #Testing Coefficents:beta_i\n",
    "#     #Null Hypotesis\n",
    "\n",
    "#     t_stat = (beta_hat.transpose()-0)/std_beta_hat\n",
    "#     p_val = 1-ss.norm.cdf(t_stat)\n",
    "\n",
    "#     #Test of joint significance\n",
    "#     F_stat= (beta_hat.transpose()@np.linalg.inv(varcov_beta_hat)@beta_hat/N[1])/(residuals.transpose()@residuals/(T-N[1]))\n",
    "#     p_val_F= 1 - ss.f.cdf(F_stat,N[1]-1, T-N[1])\n",
    "    \n",
    "    return beta_hat,y_hat\n"
   ]
  },
  {
   "cell_type": "code",
   "execution_count": 27,
   "metadata": {},
   "outputs": [],
   "source": [
    "y_hat = Linear(X, Y)[1]"
   ]
  },
  {
   "cell_type": "code",
   "execution_count": 28,
   "metadata": {},
   "outputs": [
    {
     "data": {
      "text/plain": [
       "[<matplotlib.lines.Line2D at 0x2c2e6e48eb8>]"
      ]
     },
     "execution_count": 28,
     "metadata": {},
     "output_type": "execute_result"
    },
    {
     "data": {
      "image/png": "[encoded data removed]",
      "text/plain": [
       "<Figure size 1080x648 with 1 Axes>"
      ]
     },
     "metadata": {
      "needs_background": "light"
     },
     "output_type": "display_data"
    }
   ],
   "source": [
    "plt.plot(y_hat)\n",
    "plt.plot(Y)"
   ]
  },
  {
   "cell_type": "code",
   "execution_count": 29,
   "metadata": {},
   "outputs": [],
   "source": [
    "def linear_bootstrap():\n",
    "    T = 250\n",
    "    #print(T)\n",
    "    N = X.shape[0]\n",
    "    #print(N)\n",
    "    \n",
    "    yhat_linear = np.zeros(N-(T+1))\n",
    "    window = 200\n",
    "    num_boost = 300 # increase\n",
    "    \n",
    "    for t in range(T+1,N):\n",
    "        X_train = df.y.ewm(span=5, adjust=False).mean()[t-window:t-1]\n",
    "        #X_train = np.column_stack([np.ones((len(X_train),1)),X_train])\n",
    "        Y_train = facebook[['open_tmr']][t-window:t-1].values\n",
    "        #print(X_train.shape)\n",
    "        #print(Y_train.shape)\n",
    "        X_pred = df.y.ewm(span=5, adjust=False).mean()[t-1:t]\n",
    "        X_pred = np.column_stack([np.ones((len(X_pred),1)),X_pred])\n",
    "        \n",
    "        yhat_train = Linear(X_train , Y_train)[1]\n",
    "        res_train = Y_train - yhat_train\n",
    "       \n",
    "        y_pred_all = np.zeros(num_boost)\n",
    "       \n",
    "        for i in range (0,num_boost):\n",
    "            #err = np.random.choice(res_train,(window-1, ),replace = True)\n",
    "            err = res_train\n",
    "            y_bstr = yhat_train + err\n",
    "            beta_bstr = Linear(X_train,y_bstr)[0]\n",
    "            #print(X_pred.shape)\n",
    "            #print(beta_bstr.shape)\n",
    " \n",
    "            y_pred_bstr = X_pred@beta_bstr\n",
    "            y_pred_all[i] = y_pred_bstr\n",
    "           \n",
    "        y_pred_linear = y_pred_all.mean()\n",
    "       \n",
    "        yhat_linear[t-(T+1)] = y_pred_linear\n",
    "   \n",
    "   \n",
    "    rmse_linear = np.sqrt(np.mean((Y - yhat_linear)**2))\n",
    "   \n",
    "    return yhat_linear,rmse_linear"
   ]
  },
  {
   "cell_type": "code",
   "execution_count": 30,
   "metadata": {},
   "outputs": [
    {
     "data": {
      "text/plain": [
       "40.35450633069715"
      ]
     },
     "execution_count": 30,
     "metadata": {},
     "output_type": "execute_result"
    }
   ],
   "source": [
    "rmse_linear = linear_bootstrap()[1]\n",
    "rmse_linear"
   ]
  },
  {
   "cell_type": "code",
   "execution_count": null,
   "metadata": {},
   "outputs": [],
   "source": []
  }
 ],
 "metadata": {
  "kernelspec": {
   "display_name": "Python 3",
   "language": "python",
   "name": "python3"
  },
  "language_info": {
   "codemirror_mode": {
    "name": "ipython",
    "version": 3
   },
   "file_extension": ".py",
   "mimetype": "text/x-python",
   "name": "python",
   "nbconvert_exporter": "python",
   "pygments_lexer": "ipython3",
   "version": "3.7.5"
  }
 },
 "nbformat": 4,
 "nbformat_minor": 2
}
