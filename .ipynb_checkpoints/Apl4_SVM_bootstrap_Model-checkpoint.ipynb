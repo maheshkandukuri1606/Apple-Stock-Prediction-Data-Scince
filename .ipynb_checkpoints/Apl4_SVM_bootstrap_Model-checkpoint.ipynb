{
 "cells": [
  {
   "cell_type": "markdown",
   "metadata": {},
   "source": [
    "## Support Vector Machine Model"
   ]
  },
  {
   "cell_type": "code",
   "execution_count": 16,
   "metadata": {},
   "outputs": [],
   "source": [
    "import matplotlib.pyplot as plt\n",
    "import numpy as np\n",
    "import pandas as pd\n",
    "from scipy import stats\n",
    "import seaborn as sns\n",
    "import scipy.stats as ss\n",
    "\n",
    "# Make plots larger\n",
    "plt.rcParams['figure.figsize'] = (15, 9)"
   ]
  },
  {
   "cell_type": "code",
   "execution_count": 17,
   "metadata": {},
   "outputs": [
    {
     "data": {
      "text/html": [
       "<div>\n",
       "<style scoped>\n",
       "    .dataframe tbody tr th:only-of-type {\n",
       "        vertical-align: middle;\n",
       "    }\n",
       "\n",
       "    .dataframe tbody tr th {\n",
       "        vertical-align: top;\n",
       "    }\n",
       "\n",
       "    .dataframe thead th {\n",
       "        text-align: right;\n",
       "    }\n",
       "</style>\n",
       "<table border=\"1\" class=\"dataframe\">\n",
       "  <thead>\n",
       "    <tr style=\"text-align: right;\">\n",
       "      <th></th>\n",
       "      <th>Date</th>\n",
       "      <th>High</th>\n",
       "      <th>Low</th>\n",
       "      <th>Open</th>\n",
       "      <th>Close</th>\n",
       "      <th>Volume</th>\n",
       "      <th>Adj Close</th>\n",
       "      <th>OpenTmr</th>\n",
       "      <th>OpenClose</th>\n",
       "      <th>HighLow</th>\n",
       "      <th>OCHL</th>\n",
       "    </tr>\n",
       "  </thead>\n",
       "  <tbody>\n",
       "    <tr>\n",
       "      <th>0</th>\n",
       "      <td>1/4/2016</td>\n",
       "      <td>105.370003</td>\n",
       "      <td>102.000000</td>\n",
       "      <td>102.610001</td>\n",
       "      <td>105.349999</td>\n",
       "      <td>67649400</td>\n",
       "      <td>98.446655</td>\n",
       "      <td>105.750000</td>\n",
       "      <td>103.980000</td>\n",
       "      <td>103.685001</td>\n",
       "      <td>103.832500</td>\n",
       "    </tr>\n",
       "    <tr>\n",
       "      <th>1</th>\n",
       "      <td>1/5/2016</td>\n",
       "      <td>105.849999</td>\n",
       "      <td>102.410004</td>\n",
       "      <td>105.750000</td>\n",
       "      <td>102.709999</td>\n",
       "      <td>55791000</td>\n",
       "      <td>95.979675</td>\n",
       "      <td>100.559998</td>\n",
       "      <td>104.230000</td>\n",
       "      <td>104.130001</td>\n",
       "      <td>104.180000</td>\n",
       "    </tr>\n",
       "    <tr>\n",
       "      <th>2</th>\n",
       "      <td>1/6/2016</td>\n",
       "      <td>102.370003</td>\n",
       "      <td>99.870003</td>\n",
       "      <td>100.559998</td>\n",
       "      <td>100.699997</td>\n",
       "      <td>68457400</td>\n",
       "      <td>94.101387</td>\n",
       "      <td>98.680000</td>\n",
       "      <td>100.629997</td>\n",
       "      <td>101.120003</td>\n",
       "      <td>100.875000</td>\n",
       "    </tr>\n",
       "    <tr>\n",
       "      <th>3</th>\n",
       "      <td>1/7/2016</td>\n",
       "      <td>100.129997</td>\n",
       "      <td>96.430000</td>\n",
       "      <td>98.680000</td>\n",
       "      <td>96.449997</td>\n",
       "      <td>81094400</td>\n",
       "      <td>90.129868</td>\n",
       "      <td>98.550003</td>\n",
       "      <td>97.564999</td>\n",
       "      <td>98.279999</td>\n",
       "      <td>97.922499</td>\n",
       "    </tr>\n",
       "    <tr>\n",
       "      <th>4</th>\n",
       "      <td>1/8/2016</td>\n",
       "      <td>99.110001</td>\n",
       "      <td>96.760002</td>\n",
       "      <td>98.550003</td>\n",
       "      <td>96.959999</td>\n",
       "      <td>70798000</td>\n",
       "      <td>90.606438</td>\n",
       "      <td>98.970001</td>\n",
       "      <td>97.755001</td>\n",
       "      <td>97.935001</td>\n",
       "      <td>97.845001</td>\n",
       "    </tr>\n",
       "  </tbody>\n",
       "</table>\n",
       "</div>"
      ],
      "text/plain": [
       "       Date        High         Low        Open       Close    Volume  \\\n",
       "0  1/4/2016  105.370003  102.000000  102.610001  105.349999  67649400   \n",
       "1  1/5/2016  105.849999  102.410004  105.750000  102.709999  55791000   \n",
       "2  1/6/2016  102.370003   99.870003  100.559998  100.699997  68457400   \n",
       "3  1/7/2016  100.129997   96.430000   98.680000   96.449997  81094400   \n",
       "4  1/8/2016   99.110001   96.760002   98.550003   96.959999  70798000   \n",
       "\n",
       "   Adj Close     OpenTmr   OpenClose     HighLow        OCHL  \n",
       "0  98.446655  105.750000  103.980000  103.685001  103.832500  \n",
       "1  95.979675  100.559998  104.230000  104.130001  104.180000  \n",
       "2  94.101387   98.680000  100.629997  101.120003  100.875000  \n",
       "3  90.129868   98.550003   97.564999   98.279999   97.922499  \n",
       "4  90.606438   98.970001   97.755001   97.935001   97.845001  "
      ]
     },
     "execution_count": 17,
     "metadata": {},
     "output_type": "execute_result"
    }
   ],
   "source": [
    "AAPL = pd.read_csv('AAPL_New.csv')\n",
    "AAPL.set_index('Date')\n",
    "AAPL['OpenTmr'] = AAPL['Open'].shift(-1)\n",
    "AAPL['OpenClose'] = (AAPL['Open']+ AAPL['Close'])/2\n",
    "AAPL['HighLow'] = (AAPL['High']+ AAPL['Low'])/2\n",
    "AAPL['OCHL'] = (AAPL['Open']+ AAPL['Close']+AAPL['High']+ AAPL['Low'])/4\n",
    "\n",
    "AAPL.head()"
   ]
  },
  {
   "cell_type": "code",
   "execution_count": 18,
   "metadata": {},
   "outputs": [],
   "source": [
    "N = AAPL.shape[0] # total num days\n",
    "num_boot = 1# total num bootstrap\n",
    "T= 250 # start day\n",
    "window = 200 # training period window\n",
    "Y =AAPL['OpenTmr'][-(N-(T+1)):].values"
   ]
  },
  {
   "cell_type": "code",
   "execution_count": 19,
   "metadata": {},
   "outputs": [],
   "source": [
    "from sklearn.svm import SVR  \n",
    "\n",
    "\n",
    "def svm_train(X_train, Y_train, X_pred):  \n",
    "   \n",
    "    svr_model = SVR(kernel='rbf', gamma=0.0005)\n",
    "    result = svr_model.fit(X_train, Y_train)\n",
    " \n",
    "    y_hat = result.predict(X_train)  \n",
    "    y_pred = result.predict(X_pred)\n",
    "    rmse_svm=np.sqrt(np.mean((Y_train-y_hat)**2))\n",
    "    return y_hat, y_pred, rmse_svm"
   ]
  },
  {
   "cell_type": "code",
   "execution_count": 20,
   "metadata": {},
   "outputs": [],
   "source": [
    "def svm_bstr():\n",
    "    num_boot = 1\n",
    "    yhat_svm = np.zeros(N-(T+1))\n",
    "    for t in range(T+1, N):    \n",
    "        X_train = AAPL[['Close']][t-window:t-1] \n",
    "        X_train = np.column_stack([np.ones((len(X_train),1)),X_train])\n",
    "        X_pred = AAPL[['Close']][t-1:t]\n",
    "        X_pred = np.column_stack([np.ones((len(X_pred),1)),X_pred])\n",
    "        \n",
    "        Y_train = AAPL['OpenTmr'][t-window:t-1].values    \n",
    "        yhat_train = svm_train(X_train, Y_train, X_pred)[0] \n",
    "        res_train =  Y_train - yhat_train        \n",
    "        y_pred_all = np.zeros(num_boot)\n",
    "        # bootstrap method: switching residuals\n",
    "        for i in range(0, num_boot):\n",
    "            err = np.random.choice(res_train, (window-1, ), replace=True)\n",
    "            y_bstr = yhat_train + err                        \n",
    "            y_pred_bstr = svm_train(X_train, y_bstr, X_pred)[1]\n",
    "            y_pred_all[i]=y_pred_bstr\n",
    "          \n",
    "        y_pred_svm = y_pred_all.mean() # mean of all bootstrap predictions\n",
    "        yhat_svm[t-(T+1)]=y_pred_svm # do this for each time step        \n",
    "    rmse_svm=np.sqrt(np.mean((Y[:-1]-yhat_svm[:-1])**2))\n",
    "    return yhat_svm, rmse_svm"
   ]
  },
  {
   "cell_type": "code",
   "execution_count": 21,
   "metadata": {},
   "outputs": [],
   "source": [
    "rmse = svm_bstr()[1]"
   ]
  },
  {
   "cell_type": "code",
   "execution_count": 22,
   "metadata": {},
   "outputs": [
    {
     "data": {
      "text/plain": [
       "10.581127268423153"
      ]
     },
     "execution_count": 22,
     "metadata": {},
     "output_type": "execute_result"
    }
   ],
   "source": [
    "rmse"
   ]
  },
  {
   "cell_type": "code",
   "execution_count": null,
   "metadata": {},
   "outputs": [],
   "source": []
  }
 ],
 "metadata": {
  "kernelspec": {
   "display_name": "Python 3",
   "language": "python",
   "name": "python3"
  },
  "language_info": {
   "codemirror_mode": {
    "name": "ipython",
    "version": 3
   },
   "file_extension": ".py",
   "mimetype": "text/x-python",
   "name": "python",
   "nbconvert_exporter": "python",
   "pygments_lexer": "ipython3",
   "version": "3.7.5"
  }
 },
 "nbformat": 4,
 "nbformat_minor": 2
}
